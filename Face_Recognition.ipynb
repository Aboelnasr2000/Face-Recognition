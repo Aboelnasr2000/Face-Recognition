{
  "nbformat": 4,
  "nbformat_minor": 0,
  "metadata": {
    "colab": {
      "provenance": []
    },
    "kernelspec": {
      "name": "python3",
      "display_name": "Python 3"
    },
    "language_info": {
      "name": "python"
    },
    "accelerator": "GPU"
  },
  "cells": [
    {
      "cell_type": "markdown",
      "source": [
        "# **Imports**"
      ],
      "metadata": {
        "id": "AJ_PNJEF_5uR"
      }
    },
    {
      "cell_type": "code",
      "execution_count": null,
      "metadata": {
        "id": "yMGRfIhyr3JN"
      },
      "outputs": [],
      "source": [
        "import numpy as np\n",
        "from PIL import Image\n",
        "from numpy import linalg as lin\n",
        "from sklearn.neighbors import KNeighborsClassifier\n",
        "from sklearn.metrics import confusion_matrix, accuracy_score, classification_report\n",
        "import matplotlib.pyplot as plt\n",
        "\n",
        "Path = \"/content/drive/MyDrive/Face Recognition\" "
      ]
    },
    {
      "cell_type": "code",
      "source": [
        "from google.colab import drive\n",
        "drive.mount('/content/drive')"
      ],
      "metadata": {
        "id": "XueL2M6M5tSh"
      },
      "execution_count": null,
      "outputs": []
    },
    {
      "cell_type": "markdown",
      "source": [
        "# **Face**"
      ],
      "metadata": {
        "id": "DY0tSdjxrILe"
      }
    },
    {
      "cell_type": "code",
      "source": [
        "image = Image.open(f\"{Path}/s1/1.pgm\")\n",
        "Data = np.asarray(image).flatten()\n",
        "\n",
        "for i in range(1,41) :\n",
        "    for j in range(1,11) :\n",
        "        if i == 1 and j==1 :  \n",
        "            continue \n",
        "        image = Image.open(f\"{Path}/s{i}/{j}.pgm\")\n",
        "        Matrix = np.asarray(image).flatten()\n",
        "        Data = np.vstack((Data, Matrix))\n",
        "\n",
        "print(Data)"
      ],
      "metadata": {
        "id": "TMwQIFQxuTro"
      },
      "execution_count": null,
      "outputs": []
    },
    {
      "cell_type": "code",
      "source": [
        "Y=[]\n",
        "for i in range(1,41) :\n",
        "    for j in range(1,11) :\n",
        "        Y.append(i)\n",
        "print(Y)"
      ],
      "metadata": {
        "id": "RUuZ6bAExUuU"
      },
      "execution_count": null,
      "outputs": []
    },
    {
      "cell_type": "code",
      "source": [
        "Data_Test=np.array(Data[0])\n",
        "Data_Train=np.array(Data[1])\n",
        "\n",
        "Y_Test=np.array(Y[0])\n",
        "Y_Train=np.array(Y[1])\n",
        "\n",
        "Bonus = True \n",
        "for i in range (2,400):\n",
        "    if Bonus :\n",
        "        if i % 10 < 7 :\n",
        "            Data_Train = np.vstack((Data_Train, Data[i])) \n",
        "            Y_Train = np.append(Y_Train,Y[i])\n",
        "        else :\n",
        "            Data_Test = np.vstack((Data_Test, Data[i])) \n",
        "            Y_Test = np.append(Y_Test,Y[i])\n",
        "    else :\n",
        "        if i % 2 == 0 :\n",
        "            Data_Test = np.vstack((Data_Test, Data[i])) \n",
        "            Y_Test = np.append(Y_Test,Y[i])\n",
        "        else :\n",
        "            Data_Train = np.vstack((Data_Train, Data[i])) \n",
        "            Y_Train = np.append(Y_Train,Y[i])"
      ],
      "metadata": {
        "id": "00BXu2yS1m83"
      },
      "execution_count": null,
      "outputs": []
    },
    {
      "cell_type": "markdown",
      "source": [
        "The Data Matrix odd rows were used for training data and the even rows for \n",
        "testing data using the for loop according to the index of the sample. A \n",
        "Boolean was used for the bonus part where the splitting ratio is changed \n",
        "from 50-50 to 70-30."
      ],
      "metadata": {
        "id": "g_Dbve3n-he9"
      }
    },
    {
      "cell_type": "markdown",
      "source": [
        "# **PCA**"
      ],
      "metadata": {
        "id": "r8M8kdg6_zEp"
      }
    },
    {
      "cell_type": "code",
      "source": [
        "Mean = np.mean(Data_Train,axis=0)\n",
        "Centered = Data_Train - Mean\n",
        "Cov = np.cov(Centered,bias=True,rowvar=False)\n",
        "Temp_EigenValues , Temp_EigenVectors = lin.eigh(Cov)\n",
        "EigenValues = np.diag(Temp_EigenValues)\n",
        "EigenVectors=Temp_EigenVectors.T[::-1]"
      ],
      "metadata": {
        "id": "NclYl0045Bfv"
      },
      "execution_count": null,
      "outputs": []
    },
    {
      "cell_type": "code",
      "source": [
        "Alpha =[0.8,0.85,0.9,0.95]\n",
        "R=[0,0,0,0]\n",
        "Sum = np.sum(Temp_EigenValues)\n",
        "Total = 0 \n",
        "index =  0\n",
        "FR = 0\n",
        "# print(Temp_EigenValues.size)\n",
        "for i in range (Temp_EigenValues.size-1,-1,-1):\n",
        "    Total = Total + Temp_EigenValues[i]\n",
        "    FR = Total/Sum\n",
        "    if ( FR >= Alpha[index] ):\n",
        "        R[index]= Temp_EigenValues.size-i\n",
        "        index = index + 1\n",
        "        if index == 4  :\n",
        "            break\n",
        "print(R)"
      ],
      "metadata": {
        "colab": {
          "base_uri": "https://localhost:8080/"
        },
        "id": "Tu-8xVW64y9v",
        "outputId": "5f292cc7-4cee-46cc-b9ab-e898d93b538b"
      },
      "execution_count": null,
      "outputs": [
        {
          "output_type": "stream",
          "name": "stdout",
          "text": [
            "[37, 53, 77, 116]\n"
          ]
        }
      ]
    },
    {
      "cell_type": "code",
      "source": [
        "def knn(X_train, X_test, y_train, y_test,k):\n",
        "    clf = KNeighborsClassifier(n_neighbors=k)\n",
        "    clf.fit(X_train, y_train)\n",
        "    y_predict = clf.predict(X_test)\n",
        "    accuracy=accuracy_score(y_test, y_predict) * 100\n",
        "    return accuracy"
      ],
      "metadata": {
        "id": "BnJoZYNALnL0"
      },
      "execution_count": null,
      "outputs": []
    },
    {
      "cell_type": "code",
      "source": [
        "Ks= [1,2,3,4,5,6,7]\n",
        "for i in range(len(R)):\n",
        "  Proj=EigenVectors[:R[i]]\n",
        "  Reduced_Data_Train = np.dot(Data_Train,Proj.T)\n",
        "  Reduced_Data_Test = np.dot(Data_Test,Proj.T)\n",
        "\n",
        "  r_accuracies=[]\n",
        "  for k in Ks:\n",
        "    accuracy=knn(Reduced_Data_Train,Reduced_Data_Test,Y_Train,Y_Test,k)\n",
        "    r_accuracies.append(accuracy)\n",
        "    print(f'Accuracy for r={R[i]} k={k}: {accuracy} %')\n",
        "  print('-----------------------------------')\n",
        "  plt.title(f'r={R[i]}')\n",
        "  plt.xlabel('K')\n",
        "  plt.ylabel('Accuracy %')\n",
        "  plt.plot(Ks,r_accuracies)\n",
        "  plt.show()\n",
        "  print('-----------------------------------')"
      ],
      "metadata": {
        "colab": {
          "base_uri": "https://localhost:8080/",
          "height": 1000
        },
        "id": "M-NTYfEzM71o",
        "outputId": "e48b28ba-0e28-4cc8-a967-1ed51d33dc21"
      },
      "execution_count": null,
      "outputs": [
        {
          "output_type": "stream",
          "name": "stdout",
          "text": [
            "Accuracy for r=37 k=1: 93.0 %\n",
            "Accuracy for r=37 k=2: 84.5 %\n",
            "Accuracy for r=37 k=3: 85.5 %\n",
            "Accuracy for r=37 k=4: 83.0 %\n",
            "Accuracy for r=37 k=5: 80.5 %\n",
            "Accuracy for r=37 k=6: 79.0 %\n",
            "Accuracy for r=37 k=7: 78.0 %\n",
            "-----------------------------------\n"
          ]
        },
        {
          "output_type": "display_data",
          "data": {
            "text/plain": [
              "<Figure size 432x288 with 1 Axes>"
            ],
            "image/png": "[encoded data removed]"
          },
          "metadata": {
            "needs_background": "light"
          }
        },
        {
          "output_type": "stream",
          "name": "stdout",
          "text": [
            "-----------------------------------\n",
            "Accuracy for r=53 k=1: 94.0 %\n",
            "Accuracy for r=53 k=2: 85.5 %\n",
            "Accuracy for r=53 k=3: 85.5 %\n",
            "Accuracy for r=53 k=4: 84.5 %\n",
            "Accuracy for r=53 k=5: 83.0 %\n",
            "Accuracy for r=53 k=6: 78.0 %\n",
            "Accuracy for r=53 k=7: 77.5 %\n",
            "-----------------------------------\n"
          ]
        },
        {
          "output_type": "display_data",
          "data": {
            "text/plain": [
              "<Figure size 432x288 with 1 Axes>"
            ],
            "image/png": "[encoded data removed]"
          },
          "metadata": {
            "needs_background": "light"
          }
        },
        {
          "output_type": "stream",
          "name": "stdout",
          "text": [
            "-----------------------------------\n",
            "Accuracy for r=77 k=1: 94.5 %\n",
            "Accuracy for r=77 k=2: 85.0 %\n",
            "Accuracy for r=77 k=3: 85.0 %\n",
            "Accuracy for r=77 k=4: 85.0 %\n",
            "Accuracy for r=77 k=5: 81.5 %\n",
            "Accuracy for r=77 k=6: 76.5 %\n",
            "Accuracy for r=77 k=7: 75.5 %\n",
            "-----------------------------------\n"
          ]
        },
        {
          "output_type": "display_data",
          "data": {
            "text/plain": [
              "<Figure size 432x288 with 1 Axes>"
            ],
            "image/png": "[encoded data removed]"
          },
          "metadata": {
            "needs_background": "light"
          }
        },
        {
          "output_type": "stream",
          "name": "stdout",
          "text": [
            "-----------------------------------\n",
            "Accuracy for r=116 k=1: 93.5 %\n",
            "Accuracy for r=116 k=2: 84.5 %\n",
            "Accuracy for r=116 k=3: 84.5 %\n",
            "Accuracy for r=116 k=4: 83.0 %\n",
            "Accuracy for r=116 k=5: 81.5 %\n",
            "Accuracy for r=116 k=6: 77.0 %\n",
            "Accuracy for r=116 k=7: 74.0 %\n",
            "-----------------------------------\n"
          ]
        },
        {
          "output_type": "display_data",
          "data": {
            "text/plain": [
              "<Figure size 432x288 with 1 Axes>"
            ],
            "image/png": "[encoded data removed]"
          },
          "metadata": {
            "needs_background": "light"
          }
        },
        {
          "output_type": "stream",
          "name": "stdout",
          "text": [
            "-----------------------------------\n"
          ]
        }
      ]
    },
    {
      "cell_type": "markdown",
      "source": [
        "The code above applies the pseudocode provided for the PCA algorithm and\n",
        "finds r for each value of alpha (0.8, 0.85, 0.9, 0.95), gets the projection \n",
        "matrix and then gets the reduced dimensions data of r dimensions. The \n",
        "training data was used to get the projection matrix which was later used to \n",
        "reduce the dimensions of both training andtestingdata. We applied the K-NN\n",
        "as a classifier for the images using k=1,3,5,7. We can notice that k=1 works \n",
        "best for this data. A plot of the accuracy against the k values for each value \n",
        "of r was provided to further support our claims"
      ],
      "metadata": {
        "id": "YqljDxWl_M3R"
      }
    },
    {
      "cell_type": "markdown",
      "source": [
        "# **LDA**"
      ],
      "metadata": {
        "id": "lcBjSz0p771e"
      }
    },
    {
      "cell_type": "code",
      "source": [
        "nk = 5\n",
        "dataK = []\n",
        "if Bonus:\n",
        "    for i in range(0,280,7):\n",
        "        dataK.append(Data_Train[i:i+7])\n",
        "else:    \n",
        "    for i in range(0,200,5):\n",
        "        dataK.append(Data_Train[i:i+5])\n",
        "meanK = []\n",
        "for i in range(40):\n",
        "  meanK.append(np.mean(dataK[i],axis=0))\n",
        "Sb = np.zeros((10304,10304))\n",
        "for i in range(40):\n",
        "  Sk = meanK[i] - Mean\n",
        "  Sb += (nk*(np.dot(Sk,Sk.T)))\n"
      ],
      "metadata": {
        "id": "kGdThdav79H-"
      },
      "execution_count": null,
      "outputs": []
    },
    {
      "cell_type": "code",
      "source": [
        "S = np.zeros((10304,10304))\n",
        "for i in range(40):\n",
        "  Z = dataK[i] - meanK[i]\n",
        "  Sk = np.dot(Z.T,Z)\n",
        "  S+= Sk"
      ],
      "metadata": {
        "id": "TX6HHqQPDL0k"
      },
      "execution_count": null,
      "outputs": []
    },
    {
      "cell_type": "code",
      "source": [
        "Lda_EigenValues , Lda_EigenVectors = lin.eigh(np.dot(lin.inv(S),Sb))"
      ],
      "metadata": {
        "id": "7eNhWxRaEVux"
      },
      "execution_count": null,
      "outputs": []
    },
    {
      "cell_type": "markdown",
      "source": [
        "The code above applies the pseudocode provided for the LDA algorithm and\n",
        "gets the reduced dimensionality data of 39 dimensions, then projects the \n",
        "train and test data and finally applies K-NN as a classifier."
      ],
      "metadata": {
        "id": "EwiFMvA2_gq0"
      }
    },
    {
      "cell_type": "code",
      "source": [
        "Lda_EigenVectors_2 = Lda_EigenVectors.T[::-1]\n",
        "print(len(Lda_EigenVectors_2))\n",
        "Lda_EigenVectors_3 = Lda_EigenVectors_2[:40]\n",
        "print(len(Lda_EigenVectors_3))\n",
        "\n",
        "D_train_LDA_reduced=np.dot(Data_Train,Lda_EigenVectors_3.T)\n",
        "D_test_LDA_reduced=np.dot(Data_Test,Lda_EigenVectors_3.T)\n",
        "LDA_accuracies=[]\n",
        "for k in Ks:\n",
        "    accuracy=knn(D_train_LDA_reduced,D_test_LDA_reduced,Y_Train,Y_Test,k)\n",
        "    LDA_accuracies.append(accuracy)\n",
        "    print(f'Accuracy for k={k}: {accuracy} %')\n",
        "plt.title(f'LDA')\n",
        "plt.xlabel('K')\n",
        "plt.ylabel('Accuracy %')\n",
        "plt.plot(Ks,LDA_accuracies)\n",
        "plt.show()"
      ],
      "metadata": {
        "colab": {
          "base_uri": "https://localhost:8080/",
          "height": 448
        },
        "id": "oCGErF9bFyQC",
        "outputId": "9a4127e2-c834-4225-903a-027b44179cad"
      },
      "execution_count": null,
      "outputs": [
        {
          "output_type": "stream",
          "name": "stdout",
          "text": [
            "10304\n",
            "40\n",
            "Accuracy for k=1: 94.5 %\n",
            "Accuracy for k=2: 86.5 %\n",
            "Accuracy for k=3: 85.5 %\n",
            "Accuracy for k=4: 84.5 %\n",
            "Accuracy for k=5: 78.0 %\n",
            "Accuracy for k=6: 76.0 %\n",
            "Accuracy for k=7: 73.5 %\n"
          ]
        },
        {
          "output_type": "display_data",
          "data": {
            "text/plain": [
              "<Figure size 432x288 with 1 Axes>"
            ],
            "image/png": "[encoded data removed]"
          },
          "metadata": {
            "needs_background": "light"
          }
        }
      ]
    },
    {
      "cell_type": "markdown",
      "source": [
        "# **Conclousin**"
      ],
      "metadata": {
        "id": "ht90pXNl_ngj"
      }
    },
    {
      "cell_type": "markdown",
      "source": [
        "We can notice that interestingly in our case PCA performs better than LDA, \n",
        "and that the 70-30 (96.67% PCA, 91.67% LDA) split performs better than \n",
        "the 50-50 split (94.5% PCA, 94.5% LDA) in case of PCA but worse in case of \n",
        "LDA."
      ],
      "metadata": {
        "id": "Q8LTLdqa_qu4"
      }
    }
  ]
}