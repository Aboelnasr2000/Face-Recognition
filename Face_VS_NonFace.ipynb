{
  "nbformat": 4,
  "nbformat_minor": 0,
  "metadata": {
    "colab": {
      "provenance": []
    },
    "kernelspec": {
      "name": "python3",
      "display_name": "Python 3"
    },
    "language_info": {
      "name": "python"
    },
    "accelerator": "GPU",
    "widgets": {
      "application/vnd.jupyter.widget-state+json": {
        "cf3c77dd5a374282aff9ce807095e97e": {
          "model_module": "@jupyter-widgets/controls",
          "model_name": "HBoxModel",
          "model_module_version": "1.5.0",
          "state": {
            "_dom_classes": [],
            "_model_module": "@jupyter-widgets/controls",
            "_model_module_version": "1.5.0",
            "_model_name": "HBoxModel",
            "_view_count": null,
            "_view_module": "@jupyter-widgets/controls",
            "_view_module_version": "1.5.0",
            "_view_name": "HBoxView",
            "box_style": "",
            "children": [
              "IPY_MODEL_10e0e6f6219a4c71aca37a2419813e0b",
              "IPY_MODEL_ce576788dcad4995bf9d144d2176e952",
              "IPY_MODEL_c840687ba8fa468d9228bc2541268762"
            ],
            "layout": "IPY_MODEL_d2cba231edbf48e38545e6e7c51dd29f"
          }
        },
        "10e0e6f6219a4c71aca37a2419813e0b": {
          "model_module": "@jupyter-widgets/controls",
          "model_name": "HTMLModel",
          "model_module_version": "1.5.0",
          "state": {
            "_dom_classes": [],
            "_model_module": "@jupyter-widgets/controls",
            "_model_module_version": "1.5.0",
            "_model_name": "HTMLModel",
            "_view_count": null,
            "_view_module": "@jupyter-widgets/controls",
            "_view_module_version": "1.5.0",
            "_view_name": "HTMLView",
            "description": "",
            "description_tooltip": null,
            "layout": "IPY_MODEL_529ffeef5ebb4db3890c338313b854a1",
            "placeholder": "​",
            "style": "IPY_MODEL_82ce64da506b4d27a557c143a23ef915",
            "value": "100%"
          }
        },
        "ce576788dcad4995bf9d144d2176e952": {
          "model_module": "@jupyter-widgets/controls",
          "model_name": "FloatProgressModel",
          "model_module_version": "1.5.0",
          "state": {
            "_dom_classes": [],
            "_model_module": "@jupyter-widgets/controls",
            "_model_module_version": "1.5.0",
            "_model_name": "FloatProgressModel",
            "_view_count": null,
            "_view_module": "@jupyter-widgets/controls",
            "_view_module_version": "1.5.0",
            "_view_name": "ProgressView",
            "bar_style": "success",
            "description": "",
            "description_tooltip": null,
            "layout": "IPY_MODEL_d43f7d6a755b46c08453d8a5caa995c5",
            "max": 170498071,
            "min": 0,
            "orientation": "horizontal",
            "style": "IPY_MODEL_ed34f472f1164766a048232b951ff8b1",
            "value": 170498071
          }
        },
        "c840687ba8fa468d9228bc2541268762": {
          "model_module": "@jupyter-widgets/controls",
          "model_name": "HTMLModel",
          "model_module_version": "1.5.0",
          "state": {
            "_dom_classes": [],
            "_model_module": "@jupyter-widgets/controls",
            "_model_module_version": "1.5.0",
            "_model_name": "HTMLModel",
            "_view_count": null,
            "_view_module": "@jupyter-widgets/controls",
            "_view_module_version": "1.5.0",
            "_view_name": "HTMLView",
            "description": "",
            "description_tooltip": null,
            "layout": "IPY_MODEL_b51df1f6572c449c805802cfdc5e0cb4",
            "placeholder": "​",
            "style": "IPY_MODEL_d8f42574a0094d029b9c35c84d05207a",
            "value": " 170498071/170498071 [00:02&lt;00:00, 89726355.17it/s]"
          }
        },
        "d2cba231edbf48e38545e6e7c51dd29f": {
          "model_module": "@jupyter-widgets/base",
          "model_name": "LayoutModel",
          "model_module_version": "1.2.0",
          "state": {
            "_model_module": "@jupyter-widgets/base",
            "_model_module_version": "1.2.0",
            "_model_name": "LayoutModel",
            "_view_count": null,
            "_view_module": "@jupyter-widgets/base",
            "_view_module_version": "1.2.0",
            "_view_name": "LayoutView",
            "align_content": null,
            "align_items": null,
            "align_self": null,
            "border": null,
            "bottom": null,
            "display": null,
            "flex": null,
            "flex_flow": null,
            "grid_area": null,
            "grid_auto_columns": null,
            "grid_auto_flow": null,
            "grid_auto_rows": null,
            "grid_column": null,
            "grid_gap": null,
            "grid_row": null,
            "grid_template_areas": null,
            "grid_template_columns": null,
            "grid_template_rows": null,
            "height": null,
            "justify_content": null,
            "justify_items": null,
            "left": null,
            "margin": null,
            "max_height": null,
            "max_width": null,
            "min_height": null,
            "min_width": null,
            "object_fit": null,
            "object_position": null,
            "order": null,
            "overflow": null,
            "overflow_x": null,
            "overflow_y": null,
            "padding": null,
            "right": null,
            "top": null,
            "visibility": null,
            "width": null
          }
        },
        "529ffeef5ebb4db3890c338313b854a1": {
          "model_module": "@jupyter-widgets/base",
          "model_name": "LayoutModel",
          "model_module_version": "1.2.0",
          "state": {
            "_model_module": "@jupyter-widgets/base",
            "_model_module_version": "1.2.0",
            "_model_name": "LayoutModel",
            "_view_count": null,
            "_view_module": "@jupyter-widgets/base",
            "_view_module_version": "1.2.0",
            "_view_name": "LayoutView",
            "align_content": null,
            "align_items": null,
            "align_self": null,
            "border": null,
            "bottom": null,
            "display": null,
            "flex": null,
            "flex_flow": null,
            "grid_area": null,
            "grid_auto_columns": null,
            "grid_auto_flow": null,
            "grid_auto_rows": null,
            "grid_column": null,
            "grid_gap": null,
            "grid_row": null,
            "grid_template_areas": null,
            "grid_template_columns": null,
            "grid_template_rows": null,
            "height": null,
            "justify_content": null,
            "justify_items": null,
            "left": null,
            "margin": null,
            "max_height": null,
            "max_width": null,
            "min_height": null,
            "min_width": null,
            "object_fit": null,
            "object_position": null,
            "order": null,
            "overflow": null,
            "overflow_x": null,
            "overflow_y": null,
            "padding": null,
            "right": null,
            "top": null,
            "visibility": null,
            "width": null
          }
        },
        "82ce64da506b4d27a557c143a23ef915": {
          "model_module": "@jupyter-widgets/controls",
          "model_name": "DescriptionStyleModel",
          "model_module_version": "1.5.0",
          "state": {
            "_model_module": "@jupyter-widgets/controls",
            "_model_module_version": "1.5.0",
            "_model_name": "DescriptionStyleModel",
            "_view_count": null,
            "_view_module": "@jupyter-widgets/base",
            "_view_module_version": "1.2.0",
            "_view_name": "StyleView",
            "description_width": ""
          }
        },
        "d43f7d6a755b46c08453d8a5caa995c5": {
          "model_module": "@jupyter-widgets/base",
          "model_name": "LayoutModel",
          "model_module_version": "1.2.0",
          "state": {
            "_model_module": "@jupyter-widgets/base",
            "_model_module_version": "1.2.0",
            "_model_name": "LayoutModel",
            "_view_count": null,
            "_view_module": "@jupyter-widgets/base",
            "_view_module_version": "1.2.0",
            "_view_name": "LayoutView",
            "align_content": null,
            "align_items": null,
            "align_self": null,
            "border": null,
            "bottom": null,
            "display": null,
            "flex": null,
            "flex_flow": null,
            "grid_area": null,
            "grid_auto_columns": null,
            "grid_auto_flow": null,
            "grid_auto_rows": null,
            "grid_column": null,
            "grid_gap": null,
            "grid_row": null,
            "grid_template_areas": null,
            "grid_template_columns": null,
            "grid_template_rows": null,
            "height": null,
            "justify_content": null,
            "justify_items": null,
            "left": null,
            "margin": null,
            "max_height": null,
            "max_width": null,
            "min_height": null,
            "min_width": null,
            "object_fit": null,
            "object_position": null,
            "order": null,
            "overflow": null,
            "overflow_x": null,
            "overflow_y": null,
            "padding": null,
            "right": null,
            "top": null,
            "visibility": null,
            "width": null
          }
        },
        "ed34f472f1164766a048232b951ff8b1": {
          "model_module": "@jupyter-widgets/controls",
          "model_name": "ProgressStyleModel",
          "model_module_version": "1.5.0",
          "state": {
            "_model_module": "@jupyter-widgets/controls",
            "_model_module_version": "1.5.0",
            "_model_name": "ProgressStyleModel",
            "_view_count": null,
            "_view_module": "@jupyter-widgets/base",
            "_view_module_version": "1.2.0",
            "_view_name": "StyleView",
            "bar_color": null,
            "description_width": ""
          }
        },
        "b51df1f6572c449c805802cfdc5e0cb4": {
          "model_module": "@jupyter-widgets/base",
          "model_name": "LayoutModel",
          "model_module_version": "1.2.0",
          "state": {
            "_model_module": "@jupyter-widgets/base",
            "_model_module_version": "1.2.0",
            "_model_name": "LayoutModel",
            "_view_count": null,
            "_view_module": "@jupyter-widgets/base",
            "_view_module_version": "1.2.0",
            "_view_name": "LayoutView",
            "align_content": null,
            "align_items": null,
            "align_self": null,
            "border": null,
            "bottom": null,
            "display": null,
            "flex": null,
            "flex_flow": null,
            "grid_area": null,
            "grid_auto_columns": null,
            "grid_auto_flow": null,
            "grid_auto_rows": null,
            "grid_column": null,
            "grid_gap": null,
            "grid_row": null,
            "grid_template_areas": null,
            "grid_template_columns": null,
            "grid_template_rows": null,
            "height": null,
            "justify_content": null,
            "justify_items": null,
            "left": null,
            "margin": null,
            "max_height": null,
            "max_width": null,
            "min_height": null,
            "min_width": null,
            "object_fit": null,
            "object_position": null,
            "order": null,
            "overflow": null,
            "overflow_x": null,
            "overflow_y": null,
            "padding": null,
            "right": null,
            "top": null,
            "visibility": null,
            "width": null
          }
        },
        "d8f42574a0094d029b9c35c84d05207a": {
          "model_module": "@jupyter-widgets/controls",
          "model_name": "DescriptionStyleModel",
          "model_module_version": "1.5.0",
          "state": {
            "_model_module": "@jupyter-widgets/controls",
            "_model_module_version": "1.5.0",
            "_model_name": "DescriptionStyleModel",
            "_view_count": null,
            "_view_module": "@jupyter-widgets/base",
            "_view_module_version": "1.2.0",
            "_view_name": "StyleView",
            "description_width": ""
          }
        }
      }
    }
  },
  "cells": [
    {
      "cell_type": "code",
      "execution_count": null,
      "metadata": {
        "id": "yMGRfIhyr3JN"
      },
      "outputs": [],
      "source": [
        "import numpy as np\n",
        "from PIL import Image\n",
        "from numpy import linalg as lin\n",
        "from sklearn.neighbors import KNeighborsClassifier\n",
        "from sklearn.metrics import confusion_matrix, accuracy_score, classification_report\n",
        "import matplotlib.pyplot as plt\n",
        "\n",
        "Path = \"/content/drive/MyDrive/Face Recognition\" "
      ]
    },
    {
      "cell_type": "code",
      "source": [
        "from google.colab import drive\n",
        "drive.mount('/content/drive')"
      ],
      "metadata": {
        "colab": {
          "base_uri": "https://localhost:8080/"
        },
        "id": "XueL2M6M5tSh",
        "outputId": "bd062828-86ef-4baf-a0a8-2d00340bc93b"
      },
      "execution_count": null,
      "outputs": [
        {
          "output_type": "stream",
          "name": "stdout",
          "text": [
            "Mounted at /content/drive\n"
          ]
        }
      ]
    },
    {
      "cell_type": "markdown",
      "source": [
        "# **Non-Face**"
      ],
      "metadata": {
        "id": "Ln8iA2TAq_qe"
      }
    },
    {
      "cell_type": "code",
      "source": [
        "import torch\n",
        "from torch.utils.data import Dataset\n",
        "from torchvision import datasets\n",
        "from torchvision.transforms import ToTensor\n",
        "import matplotlib.pyplot as plt\n",
        "\n",
        "\n",
        "training_data = datasets.CIFAR10(\n",
        "    root=\"data\",\n",
        "    download=True,\n",
        "    transform=ToTensor()\n",
        ")"
      ],
      "metadata": {
        "id": "EZrh7_QPWb9c",
        "colab": {
          "base_uri": "https://localhost:8080/",
          "height": 84,
          "referenced_widgets": [
            "cf3c77dd5a374282aff9ce807095e97e",
            "10e0e6f6219a4c71aca37a2419813e0b",
            "ce576788dcad4995bf9d144d2176e952",
            "c840687ba8fa468d9228bc2541268762",
            "d2cba231edbf48e38545e6e7c51dd29f",
            "529ffeef5ebb4db3890c338313b854a1",
            "82ce64da506b4d27a557c143a23ef915",
            "d43f7d6a755b46c08453d8a5caa995c5",
            "ed34f472f1164766a048232b951ff8b1",
            "b51df1f6572c449c805802cfdc5e0cb4",
            "d8f42574a0094d029b9c35c84d05207a"
          ]
        },
        "outputId": "1788675c-79e9-41f7-c7c5-7f6064681ba3"
      },
      "execution_count": null,
      "outputs": [
        {
          "output_type": "stream",
          "name": "stdout",
          "text": [
            "Downloading https://www.cs.toronto.edu/~kriz/cifar-10-python.tar.gz to data/cifar-10-python.tar.gz\n"
          ]
        },
        {
          "output_type": "display_data",
          "data": {
            "text/plain": [
              "  0%|          | 0/170498071 [00:00<?, ?it/s]"
            ],
            "application/vnd.jupyter.widget-view+json": {
              "version_major": 2,
              "version_minor": 0,
              "model_id": "cf3c77dd5a374282aff9ce807095e97e"
            }
          },
          "metadata": {}
        },
        {
          "output_type": "stream",
          "name": "stdout",
          "text": [
            "Extracting data/cifar-10-python.tar.gz to data\n"
          ]
        }
      ]
    },
    {
      "cell_type": "markdown",
      "source": [
        "Imported a non-face dataset, CIFAR10 from the pytorch framework.\n"
      ],
      "metadata": {
        "id": "HkIEDCnnAITM"
      }
    },
    {
      "cell_type": "code",
      "source": [
        "training_data.data.shape\n",
        "from skimage.color import rgb2gray\n",
        "from skimage.transform import rescale, resize, downscale_local_mean\n",
        "\n",
        "import numpy as np\n",
        "indices=np.random.choice(5000,400,replace=False)\n",
        "\n",
        "samples=np.array([resize(rgb2gray(img.reshape(32,32,3)),(92,112)) for img in training_data.data[indices,:,:,:]])"
      ],
      "metadata": {
        "id": "mOK4ZRQnXFH5"
      },
      "execution_count": null,
      "outputs": []
    },
    {
      "cell_type": "markdown",
      "source": [
        "we take 200 of the 5000 images at random \n",
        "from our dataset to put in our indices array. We then turn it to grayscale \n",
        "using rgb2gray, and resize it to the size of the given dataset. The for loop \n",
        "iterates over all the images."
      ],
      "metadata": {
        "id": "ukq10FUXASgm"
      }
    },
    {
      "cell_type": "code",
      "source": [
        "import matplotlib.pyplot as plt\n",
        "fig,ax=plt.subplots(figsize=(8,8))\n",
        "ax.imshow(samples[19],cmap='gray')\n",
        "plt.show()"
      ],
      "metadata": {
        "colab": {
          "base_uri": "https://localhost:8080/",
          "height": 417
        },
        "id": "pLeJ88LUZABe",
        "outputId": "41eb4cce-e73a-400f-efaf-048481485314"
      },
      "execution_count": null,
      "outputs": [
        {
          "output_type": "display_data",
          "data": {
            "text/plain": [
              "<Figure size 576x576 with 1 Axes>"
            ],
            "image/png": "[encoded data removed]"
          },
          "metadata": {
            "needs_background": "light"
          }
        }
      ]
    },
    {
      "cell_type": "code",
      "source": [
        "samples=samples.reshape(400,-1)"
      ],
      "metadata": {
        "id": "doif04u7fbi6"
      },
      "execution_count": null,
      "outputs": []
    },
    {
      "cell_type": "markdown",
      "source": [
        "Reshape non-faces samples array for consistency, and we then \n",
        "concatenate it to our original dataset. We also create a labels array that \n",
        "consists of 400 ones (demonstrating the ‘faces’ data) and 200 zeroes \n",
        "(representing the non-faces images)."
      ],
      "metadata": {
        "id": "5FzxHQhZAZ4d"
      }
    },
    {
      "cell_type": "markdown",
      "source": [
        "# **Face**"
      ],
      "metadata": {
        "id": "DY0tSdjxrILe"
      }
    },
    {
      "cell_type": "code",
      "source": [
        "image = Image.open(f\"{Path}/s1/1.pgm\")\n",
        "Data = np.asarray(image).flatten()\n",
        "\n",
        "for i in range(1,41) :\n",
        "    for j in range(1,11) :\n",
        "        if i == 1 and j==1 :  \n",
        "            continue \n",
        "        image = Image.open(f\"{Path}/s{i}/{j}.pgm\")\n",
        "        Matrix = np.asarray(image).flatten()\n",
        "        Data = np.vstack((Data, Matrix))"
      ],
      "metadata": {
        "id": "TMwQIFQxuTro"
      },
      "execution_count": null,
      "outputs": []
    },
    {
      "cell_type": "code",
      "source": [
        "Y=np.concatenate((np.ones(400),np.zeros(400)))"
      ],
      "metadata": {
        "id": "-eDh07vKep27"
      },
      "execution_count": null,
      "outputs": []
    },
    {
      "cell_type": "code",
      "source": [
        "Data=np.concatenate((Data,samples),axis=0)\n",
        "Data.shape"
      ],
      "metadata": {
        "colab": {
          "base_uri": "https://localhost:8080/"
        },
        "id": "1sX-UnmmgFUb",
        "outputId": "943eddd9-9506-454a-9783-c44f4ad6ebac"
      },
      "execution_count": null,
      "outputs": [
        {
          "output_type": "execute_result",
          "data": {
            "text/plain": [
              "(800, 10304)"
            ]
          },
          "metadata": {},
          "execution_count": 9
        }
      ]
    },
    {
      "cell_type": "code",
      "source": [
        "Data_Test=np.array(Data[0])\n",
        "Data_Train=np.array(Data[1])\n",
        "\n",
        "Y_Test=np.array(Y[0])\n",
        "Y_Train=np.array(Y[1])\n",
        "\n",
        "Bonus = False \n",
        "for i in range (2,800):\n",
        "    if Bonus :\n",
        "        if i % 10 < 7 :\n",
        "            Data_Train = np.vstack((Data_Train, Data[i])) \n",
        "            Y_Train = np.append(Y_Train,Y[i])\n",
        "        else :\n",
        "            Data_Test = np.vstack((Data_Test, Data[i])) \n",
        "            Y_Test = np.append(Y_Test,Y[i])\n",
        "    else :\n",
        "        if i % 2 == 0 :\n",
        "            Data_Test = np.vstack((Data_Test, Data[i])) \n",
        "            Y_Test = np.append(Y_Test,Y[i])\n",
        "        else :\n",
        "            Data_Train = np.vstack((Data_Train, Data[i])) \n",
        "            Y_Train = np.append(Y_Train,Y[i])"
      ],
      "metadata": {
        "id": "00BXu2yS1m83"
      },
      "execution_count": null,
      "outputs": []
    },
    {
      "cell_type": "markdown",
      "source": [
        "Split data and proceed to apply the PCA and LDA algorithms as \n",
        "shown before"
      ],
      "metadata": {
        "id": "FoYextacAq9D"
      }
    },
    {
      "cell_type": "code",
      "source": [
        "print(Y_Train)"
      ],
      "metadata": {
        "id": "IFb5xzRK9QHH",
        "colab": {
          "base_uri": "https://localhost:8080/"
        },
        "outputId": "e86f1026-5d5a-45a4-95f9-584161371854"
      },
      "execution_count": null,
      "outputs": [
        {
          "output_type": "stream",
          "name": "stdout",
          "text": [
            "[1. 1. 1. 1. 1. 1. 1. 1. 1. 1. 1. 1. 1. 1. 1. 1. 1. 1. 1. 1. 1. 1. 1. 1.\n",
            " 1. 1. 1. 1. 1. 1. 1. 1. 1. 1. 1. 1. 1. 1. 1. 1. 1. 1. 1. 1. 1. 1. 1. 1.\n",
            " 1. 1. 1. 1. 1. 1. 1. 1. 1. 1. 1. 1. 1. 1. 1. 1. 1. 1. 1. 1. 1. 1. 1. 1.\n",
            " 1. 1. 1. 1. 1. 1. 1. 1. 1. 1. 1. 1. 1. 1. 1. 1. 1. 1. 1. 1. 1. 1. 1. 1.\n",
            " 1. 1. 1. 1. 1. 1. 1. 1. 1. 1. 1. 1. 1. 1. 1. 1. 1. 1. 1. 1. 1. 1. 1. 1.\n",
            " 1. 1. 1. 1. 1. 1. 1. 1. 1. 1. 1. 1. 1. 1. 1. 1. 1. 1. 1. 1. 1. 1. 1. 1.\n",
            " 1. 1. 1. 1. 1. 1. 1. 1. 1. 1. 1. 1. 1. 1. 1. 1. 1. 1. 1. 1. 1. 1. 1. 1.\n",
            " 1. 1. 1. 1. 1. 1. 1. 1. 1. 1. 1. 1. 1. 1. 1. 1. 1. 1. 1. 1. 1. 1. 1. 1.\n",
            " 1. 1. 1. 1. 1. 1. 1. 1. 0. 0. 0. 0. 0. 0. 0. 0. 0. 0. 0. 0. 0. 0. 0. 0.\n",
            " 0. 0. 0. 0. 0. 0. 0. 0. 0. 0. 0. 0. 0. 0. 0. 0. 0. 0. 0. 0. 0. 0. 0. 0.\n",
            " 0. 0. 0. 0. 0. 0. 0. 0. 0. 0. 0. 0. 0. 0. 0. 0. 0. 0. 0. 0. 0. 0. 0. 0.\n",
            " 0. 0. 0. 0. 0. 0. 0. 0. 0. 0. 0. 0. 0. 0. 0. 0. 0. 0. 0. 0. 0. 0. 0. 0.\n",
            " 0. 0. 0. 0. 0. 0. 0. 0. 0. 0. 0. 0. 0. 0. 0. 0. 0. 0. 0. 0. 0. 0. 0. 0.\n",
            " 0. 0. 0. 0. 0. 0. 0. 0. 0. 0. 0. 0. 0. 0. 0. 0. 0. 0. 0. 0. 0. 0. 0. 0.\n",
            " 0. 0. 0. 0. 0. 0. 0. 0. 0. 0. 0. 0. 0. 0. 0. 0. 0. 0. 0. 0. 0. 0. 0. 0.\n",
            " 0. 0. 0. 0. 0. 0. 0. 0. 0. 0. 0. 0. 0. 0. 0. 0. 0. 0. 0. 0. 0. 0. 0. 0.\n",
            " 0. 0. 0. 0. 0. 0. 0. 0. 0. 0. 0. 0. 0. 0. 0. 0.]\n"
          ]
        }
      ]
    },
    {
      "cell_type": "code",
      "source": [
        "Mean = np.mean(Data_Train,axis=0)\n",
        "Centered = Data_Train - Mean\n",
        "Cov = np.cov(Centered,bias=True,rowvar=False)\n",
        "Temp_EigenValues , Temp_EigenVectors = lin.eigh(Cov)\n",
        "EigenValues = np.diag(Temp_EigenValues)\n",
        "EigenVectors=Temp_EigenVectors.T[::-1]"
      ],
      "metadata": {
        "id": "NclYl0045Bfv"
      },
      "execution_count": null,
      "outputs": []
    },
    {
      "cell_type": "code",
      "source": [
        "Alpha =[0.8,0.85,0.9,0.95]\n",
        "R=[0,0,0,0]\n",
        "Sum = np.sum(Temp_EigenValues)\n",
        "Total = 0 \n",
        "index =  0\n",
        "FR = 0\n",
        "# print(Temp_EigenValues.size)\n",
        "for i in range (Temp_EigenValues.size-1,-1,-1):\n",
        "    Total = Total + Temp_EigenValues[i]\n",
        "    FR = Total/Sum\n",
        "    if ( FR >= Alpha[index] ):\n",
        "        R[index]= Temp_EigenValues.size-i\n",
        "        index = index + 1\n",
        "        if index == 4  :\n",
        "            break\n",
        "print(R)"
      ],
      "metadata": {
        "colab": {
          "base_uri": "https://localhost:8080/"
        },
        "id": "Tu-8xVW64y9v",
        "outputId": "56cf4954-85af-4c20-e26a-00ef80f18ba7"
      },
      "execution_count": null,
      "outputs": [
        {
          "output_type": "stream",
          "name": "stdout",
          "text": [
            "[1, 2, 5, 24]\n"
          ]
        }
      ]
    },
    {
      "cell_type": "code",
      "source": [
        "def knn(X_train, X_test, y_train, y_test,k):\n",
        "    clf = KNeighborsClassifier(n_neighbors=k)\n",
        "    clf.fit(X_train, y_train)\n",
        "    y_predict = clf.predict(X_test)\n",
        "    accuracy=accuracy_score(y_test, y_predict) * 100\n",
        "    return accuracy"
      ],
      "metadata": {
        "id": "BnJoZYNALnL0"
      },
      "execution_count": null,
      "outputs": []
    },
    {
      "cell_type": "code",
      "source": [
        "Ks= [1,2,3,4,5,6,7]\n",
        "for i in range(len(R)):\n",
        "  Proj=EigenVectors[:R[i]]\n",
        "  Reduced_Data_Train = np.dot(Data_Train,Proj.T)\n",
        "  Reduced_Data_Test = np.dot(Data_Test,Proj.T)\n",
        "\n",
        "  r_accuracies=[]\n",
        "  for k in Ks:\n",
        "    accuracy=knn(Reduced_Data_Train,Reduced_Data_Test,Y_Train,Y_Test,k)\n",
        "    r_accuracies.append(accuracy)\n",
        "    print(f'Accuracy for r={R[i]} k={k}: {accuracy} %')\n",
        "  print('-----------------------------------')\n",
        "  plt.title(f'r={R[i]}')\n",
        "  plt.xlabel('K')\n",
        "  plt.ylabel('Accuracy %')\n",
        "  plt.plot(Ks,r_accuracies)\n",
        "  plt.show()\n",
        "  print('-----------------------------------')"
      ],
      "metadata": {
        "colab": {
          "base_uri": "https://localhost:8080/",
          "height": 1000
        },
        "id": "M-NTYfEzM71o",
        "outputId": "aae6ccf4-0dd9-4379-e1e7-de1296e55ce8"
      },
      "execution_count": null,
      "outputs": [
        {
          "output_type": "stream",
          "name": "stdout",
          "text": [
            "Accuracy for r=1 k=1: 100.0 %\n",
            "Accuracy for r=1 k=2: 100.0 %\n",
            "Accuracy for r=1 k=3: 100.0 %\n",
            "Accuracy for r=1 k=4: 100.0 %\n",
            "Accuracy for r=1 k=5: 100.0 %\n",
            "Accuracy for r=1 k=6: 100.0 %\n",
            "Accuracy for r=1 k=7: 100.0 %\n",
            "-----------------------------------\n"
          ]
        },
        {
          "output_type": "display_data",
          "data": {
            "text/plain": [
              "<Figure size 432x288 with 1 Axes>"
            ],
            "image/png": "[encoded data removed]"
          },
          "metadata": {
            "needs_background": "light"
          }
        },
        {
          "output_type": "stream",
          "name": "stdout",
          "text": [
            "-----------------------------------\n",
            "Accuracy for r=2 k=1: 100.0 %\n",
            "Accuracy for r=2 k=2: 100.0 %\n",
            "Accuracy for r=2 k=3: 100.0 %\n",
            "Accuracy for r=2 k=4: 100.0 %\n",
            "Accuracy for r=2 k=5: 100.0 %\n",
            "Accuracy for r=2 k=6: 100.0 %\n",
            "Accuracy for r=2 k=7: 100.0 %\n",
            "-----------------------------------\n"
          ]
        },
        {
          "output_type": "display_data",
          "data": {
            "text/plain": [
              "<Figure size 432x288 with 1 Axes>"
            ],
            "image/png": "[encoded data removed]"
          },
          "metadata": {
            "needs_background": "light"
          }
        },
        {
          "output_type": "stream",
          "name": "stdout",
          "text": [
            "-----------------------------------\n",
            "Accuracy for r=5 k=1: 100.0 %\n",
            "Accuracy for r=5 k=2: 100.0 %\n",
            "Accuracy for r=5 k=3: 100.0 %\n",
            "Accuracy for r=5 k=4: 100.0 %\n",
            "Accuracy for r=5 k=5: 100.0 %\n",
            "Accuracy for r=5 k=6: 100.0 %\n",
            "Accuracy for r=5 k=7: 100.0 %\n",
            "-----------------------------------\n"
          ]
        },
        {
          "output_type": "display_data",
          "data": {
            "text/plain": [
              "<Figure size 432x288 with 1 Axes>"
            ],
            "image/png": "[encoded data removed]"
          },
          "metadata": {
            "needs_background": "light"
          }
        },
        {
          "output_type": "stream",
          "name": "stdout",
          "text": [
            "-----------------------------------\n",
            "Accuracy for r=24 k=1: 100.0 %\n",
            "Accuracy for r=24 k=2: 100.0 %\n",
            "Accuracy for r=24 k=3: 100.0 %\n",
            "Accuracy for r=24 k=4: 100.0 %\n",
            "Accuracy for r=24 k=5: 100.0 %\n",
            "Accuracy for r=24 k=6: 100.0 %\n",
            "Accuracy for r=24 k=7: 100.0 %\n",
            "-----------------------------------\n"
          ]
        },
        {
          "output_type": "display_data",
          "data": {
            "text/plain": [
              "<Figure size 432x288 with 1 Axes>"
            ],
            "image/png": "[encoded data removed]"
          },
          "metadata": {
            "needs_background": "light"
          }
        },
        {
          "output_type": "stream",
          "name": "stdout",
          "text": [
            "-----------------------------------\n"
          ]
        }
      ]
    },
    {
      "cell_type": "markdown",
      "source": [
        "LDA"
      ],
      "metadata": {
        "id": "lcBjSz0p771e"
      }
    },
    {
      "cell_type": "code",
      "source": [
        "\n",
        "Faces = Data_Train[0:200]\n",
        "Non_Faces = Data_Train[200:400]\n",
        "Mean_Faces= (np.mean(Faces,axis=0))[np.newaxis].T\n",
        "Mean_NonFaces = (np.mean(Non_Faces,axis=0))[np.newaxis].T\n",
        "\n",
        "H = np.transpose((Mean_Faces-Mean_NonFaces),axes=None)\n",
        "B = np.dot((Mean_Faces-Mean_NonFaces),H)\n",
        "print(B.shape)\n"
      ],
      "metadata": {
        "colab": {
          "base_uri": "https://localhost:8080/"
        },
        "id": "dHcqCvEInGFI",
        "outputId": "59cb757a-a24f-432b-ced4-fd5d9a0db367"
      },
      "execution_count": null,
      "outputs": [
        {
          "output_type": "stream",
          "name": "stdout",
          "text": [
            "(10304, 10304)\n"
          ]
        }
      ]
    },
    {
      "cell_type": "code",
      "source": [
        "Z_Faces =Faces-Mean_Faces.T\n",
        "Z_NonFaces =Non_Faces-Mean_NonFaces.T\n",
        "S1 = np.dot(Z_Faces.T,Z_Faces)\n",
        "S2 = np.dot(Z_NonFaces.T,Z_NonFaces)\n",
        "S = S1 + S2"
      ],
      "metadata": {
        "id": "Nn5jpfMNz3uw"
      },
      "execution_count": null,
      "outputs": []
    },
    {
      "cell_type": "code",
      "source": [
        "# nk = 5\n",
        "# dataK = []\n",
        "# if Bonus:\n",
        "#     for i in range(0,560,7):\n",
        "#         dataK.append(Data_Train[i:i+7])\n",
        "# else:    \n",
        "#     for i in range(0,400,5):\n",
        "#         dataK.append(Data_Train[i:i+5])\n",
        "# meanK = []\n",
        "# for i in range(40):\n",
        "#   meanK.append(np.mean(dataK[i],axis=0))\n",
        "# Sb = np.zeros((10304,10304))\n",
        "# for i in range(40):\n",
        "#   Sk = meanK[i] - Mean\n",
        "#   Sb += (nk*(np.dot(Sk,Sk.T)))\n"
      ],
      "metadata": {
        "id": "kGdThdav79H-"
      },
      "execution_count": null,
      "outputs": []
    },
    {
      "cell_type": "code",
      "source": [
        "# S = np.zeros((10304,10304))\n",
        "# for i in range(40):\n",
        "#   Z = dataK[i] - meanK[i]\n",
        "#   Sk = np.dot(Z.T,Z)\n",
        "#   S+= Sk"
      ],
      "metadata": {
        "id": "TX6HHqQPDL0k"
      },
      "execution_count": null,
      "outputs": []
    },
    {
      "cell_type": "code",
      "source": [
        "Lda_EigenValues , Lda_EigenVectors = lin.eigh(np.dot(lin.inv(S),B))"
      ],
      "metadata": {
        "id": "7eNhWxRaEVux"
      },
      "execution_count": null,
      "outputs": []
    },
    {
      "cell_type": "code",
      "source": [
        "Lda_EigenVectors_2 = Lda_EigenVectors.T[::-1]\n",
        "Lda_EigenVectors_3 = Lda_EigenVectors_2[:40]\n",
        "\n",
        "\n",
        "D_train_LDA_reduced=np.dot(Data_Train,Lda_EigenVectors_3.T)\n",
        "D_test_LDA_reduced=np.dot(Data_Test,Lda_EigenVectors_3.T)\n",
        "LDA_accuracies=[]\n",
        "for k in Ks:\n",
        "    accuracy=knn(D_train_LDA_reduced,D_test_LDA_reduced,Y_Train,Y_Test,k)\n",
        "    LDA_accuracies.append(accuracy)\n",
        "    print(f'Accuracy for k={k}: {accuracy} %')\n",
        "plt.title(f'LDA')\n",
        "plt.xlabel('K')\n",
        "plt.ylabel('Accuracy %')\n",
        "plt.plot(Ks,LDA_accuracies)\n",
        "plt.show()"
      ],
      "metadata": {
        "id": "oCGErF9bFyQC",
        "colab": {
          "base_uri": "https://localhost:8080/",
          "height": 417
        },
        "outputId": "44a5739c-78a7-4e51-a56b-afbb1c5b0ed5"
      },
      "execution_count": null,
      "outputs": [
        {
          "output_type": "stream",
          "name": "stdout",
          "text": [
            "Accuracy for k=1: 100.0 %\n",
            "Accuracy for k=2: 100.0 %\n",
            "Accuracy for k=3: 100.0 %\n",
            "Accuracy for k=4: 100.0 %\n",
            "Accuracy for k=5: 100.0 %\n",
            "Accuracy for k=6: 100.0 %\n",
            "Accuracy for k=7: 100.0 %\n"
          ]
        },
        {
          "output_type": "display_data",
          "data": {
            "text/plain": [
              "<Figure size 432x288 with 1 Axes>"
            ],
            "image/png": "[encoded data removed]"
          },
          "metadata": {
            "needs_background": "light"
          }
        }
      ]
    }
  ]
}